{
 "cells": [
  {
   "cell_type": "markdown",
   "id": "1e53c39c",
   "metadata": {},
   "source": [
    "## ENGLISH DICTIONARY APPLICATION\n",
    "_________________________\n",
    "\n",
    "#### To run this python script follow the below installation\n",
    "      $ pip install pywebio\n",
    "      $ pip install pyspellchecker\n",
    "      \n",
    "_______"
   ]
  },
  {
   "cell_type": "markdown",
   "id": "85ccf7cb",
   "metadata": {},
   "source": [
    "### Step #1:\n",
    "import following **modules**"
   ]
  },
  {
   "cell_type": "code",
   "execution_count": null,
   "id": "1e9df124",
   "metadata": {},
   "outputs": [],
   "source": [
    "import json\n",
    "import time\n",
    "from pywebio.input import *\n",
    "from pywebio.output import *\n",
    "from pywebio.session import *\n",
    "from difflib import get_close_matches\n",
    "from spellchecker import SpellChecker"
   ]
  },
  {
   "cell_type": "markdown",
   "id": "7f905981",
   "metadata": {},
   "source": [
    "*****\n",
    "### Step #2:"
   ]
  },
  {
   "cell_type": "markdown",
   "id": "d86c9663",
   "metadata": {},
   "source": [
    "* Load the JSON data"
   ]
  },
  {
   "cell_type": "code",
   "execution_count": null,
   "id": "ac1f3dab",
   "metadata": {},
   "outputs": [],
   "source": [
    "json.load(open(r\"C:\\Users\\Dell\\Downloads\\ebooks.json\"))"
   ]
  },
  {
   "cell_type": "markdown",
   "id": "8310316c",
   "metadata": {},
   "source": [
    "*****\n",
    "### Step #3:\n",
    "* To return the definition of the word(entered by user).\n",
    "* This function will give an appropriate message, if the word doesn't exist in the data.\n",
    "* If user will enter a word with wrong spelling, then we have to give an appropriate message using **get_close_matches()** function.\n"
   ]
  },
  {
   "cell_type": "code",
   "execution_count": null,
   "id": "60b49272",
   "metadata": {},
   "outputs": [],
   "source": [
    "def Check(word):\n",
    "    if word.lower() in book:\n",
    "        return book[word.lower()], None\n",
    "    elif word.title() in book:\n",
    "        return book[word.title()], None\n",
    "    elif word.upper() in book:\n",
    "        return book[word.upper()], None\n",
    "    elif len(get_close_matches(word, book.keys())) > 0:\n",
    "        return book[get_close_matches(word, book.keys())[0]], 1\n",
    "    else:\n",
    "        return None, 2"
   ]
  },
  {
   "cell_type": "markdown",
   "id": "19e9c55b",
   "metadata": {},
   "source": [
    "*****\n",
    "### Step #4:\n",
    "* Taking user input, here **required=True** means field can't be empty."
   ]
  },
  {
   "cell_type": "code",
   "execution_count": null,
   "id": "4c59277a",
   "metadata": {},
   "outputs": [],
   "source": [
    "word = input(\"\", placeholder=\"What word do you want to look up?\", required=True, validate=stac)\n",
    "tran, res = Check(word)\n",
    "Res = type(tran) # Store the type of tran whether list or not."
   ]
  },
  {
   "cell_type": "markdown",
   "id": "7415ca59",
   "metadata": {},
   "source": [
    "*****\n",
    "### Step #5:\n",
    "* Checking following condtions:\n",
    "     * If **res is 1**, that means user has entered the wrong word, then it will display the meaning of most close word to the user input.\n",
    "     * If **res is 2**, that means no word found.\n",
    "     * If **res is None**, that means word found, and then it will display the meaning of the word."
   ]
  },
  {
   "cell_type": "code",
   "execution_count": null,
   "id": "9f2002c1",
   "metadata": {},
   "outputs": [],
   "source": [
    "if Res == list:\n",
    "            if res == 1:\n",
    "                put_warning(\"Error! word not found\", closable=True)\n",
    "                time.sleep(3)\n",
    "                clear()\n",
    "                for i in tran:\n",
    "                    popup(f\"Showing result for {get_close_matches(word, book.keys())[0].capitalize()}\",\n",
    "                          [put_html(\"<ol>\"f\"{i}\"\"</ol>\"), put_buttons(\n",
    "                              ['Close'], onclick=lambda _: close_popup())])\n",
    "                    break\n",
    "            elif res == 2:\n",
    "                put_error(\"No definitions found for this word, Try searching...\")\n",
    "                time.sleep(3)\n",
    "                clear()\n",
    "                break\n",
    "            elif res == None:\n",
    "                put_success(\"Wow, word found\")\n",
    "                time.sleep(3)\n",
    "                clear()\n",
    "                for i in tran:\n",
    "                    popup(f\"{word.capitalize()}\", [put_html(\"<ol>\"f\"{i}\"\"</ol>\"), put_buttons(\n",
    "                        ['Close'], onclick=lambda _: close_popup())])\n",
    "                    break"
   ]
  },
  {
   "cell_type": "markdown",
   "id": "61db3f53",
   "metadata": {},
   "source": [
    "* If user want to search for a word again, then display a choice.\n",
    "     * If choice is **Yes**, then search again."
   ]
  },
  {
   "cell_type": "code",
   "execution_count": null,
   "id": "230d89ae",
   "metadata": {},
   "outputs": [],
   "source": [
    "a = radio(\"Do you want to search again?\",\n",
    "                  options=['Yes', 'No'], required=True)"
   ]
  },
  {
   "cell_type": "markdown",
   "id": "074a45fe",
   "metadata": {},
   "source": [
    "   * **Otherwise** display a **toast notification** and **exit**."
   ]
  },
  {
   "cell_type": "code",
   "execution_count": null,
   "id": "1924b1ba",
   "metadata": {},
   "outputs": [],
   "source": [
    "toast(\"Thanks a lot!\")\n",
    "exit()"
   ]
  },
  {
   "cell_type": "markdown",
   "id": "ba296b56",
   "metadata": {},
   "source": [
    "*****\n",
    "# Complete Code:"
   ]
  },
  {
   "cell_type": "code",
   "execution_count": null,
   "id": "e3bef28b",
   "metadata": {},
   "outputs": [],
   "source": [
    "from difflib import get_close_matches\n",
    "import json\n",
    "import time\n",
    "from pywebio.input import *\n",
    "from pywebio.output import *\n",
    "from pywebio.session import *\n",
    "from spellchecker import SpellChecker\n",
    "spell = SpellChecker()\n",
    "\n",
    "book = json.load(open(r\"C:\\Users\\Dell\\Downloads\\ebooks.json\"))\n",
    "\n",
    "def logo():\n",
    "    put_html(\"<p align=\"\"left\"\"><h4><img src=\"\"https://icons.iconarchive.com/icons/papirus-team/papirus-apps/256/accessories-dictionary-icon.png\"\" width=\"\"32px\"\"> ENGLISH DICTIONARY</h4></p>\")\n",
    "\n",
    "\n",
    "def stac(data):\n",
    "    words = data.split()\n",
    "    misspelled = spell.unknown(words)\n",
    "    if not misspelled:\n",
    "        return None\n",
    "    else:\n",
    "        spel = [word for word in misspelled]\n",
    "        if len(spel) > 1:\n",
    "            spel = \", \".join(spel)\n",
    "            return f\"couldn't recognize words \\\"{spel}\\\"\"\n",
    "        else:\n",
    "            spel = \", \".join(spel)\n",
    "            return f\"couldn't recognize word \\\"{spel}\\\"\"\n",
    "\n",
    "\n",
    "def Check(word):\n",
    "    if word.lower() in book:\n",
    "        return book[word.lower()], None\n",
    "    elif word.title() in book:\n",
    "        return book[word.title()], None\n",
    "    elif word.upper() in book:\n",
    "        return book[word.upper()], None\n",
    "    elif len(get_close_matches(word, book.keys())) > 0:\n",
    "        return book[get_close_matches(word, book.keys())[0]], 1\n",
    "    else:\n",
    "        return None, 2\n",
    "\n",
    "\n",
    "if __name__ == '__main__':\n",
    "    toast('WORD MEANING DICTIONARY', position='center',\n",
    "          color='#A09876', duration=3, onclick=clear)\n",
    "    time.sleep(3)\n",
    "    while 1:\n",
    "        clear()\n",
    "        logo()\n",
    "        word = input(\"\", placeholder=\"What word do you want to look up?\",\n",
    "                     required=True, validate=stac)\n",
    "        put_html(\"<p align=\"\"center\"\"><img src=\"\"https://media.tenor.com/images/6399c69d68f8e6351e599e0db88f665e/tenor.gif\"\" width=\"\"120px\"\"></p>\")\n",
    "        time.sleep(3)\n",
    "        tran, res = Check(word)\n",
    "        Res = type(tran)\n",
    "        clear()\n",
    "        logo()\n",
    "        if Res == list:\n",
    "            if res == 1:\n",
    "                put_warning(\"Error! word not found\", closable=True)\n",
    "                time.sleep(3)\n",
    "                clear()\n",
    "                logo()\n",
    "                for i in tran:\n",
    "                    popup(f\"Showing result for {get_close_matches(word, book.keys())[0].capitalize()}\",\n",
    "                          [put_html(\"<ol>\"f\"{i}\"\"</ol>\"), put_buttons(\n",
    "                              ['Close'], onclick=lambda _: close_popup())])\n",
    "                    break\n",
    "            elif res == 2:\n",
    "                put_error(\"No definitions found for this word, Try searching...\")\n",
    "                time.sleep(3)\n",
    "                clear()\n",
    "                logo()\n",
    "                break\n",
    "            elif res == None:\n",
    "                put_success(\"Wow, word found\")\n",
    "                time.sleep(3)\n",
    "                clear()\n",
    "                logo()\n",
    "                for i in tran:\n",
    "                    popup(f\"{word.capitalize()}\", [put_html(\"<ol>\"f\"{i}\"\"</ol>\"), put_buttons(\n",
    "                        ['Close'], onclick=lambda _: close_popup())])\n",
    "                    break\n",
    "\n",
    "        else:\n",
    "            put_error(\"No definitions found for this word, Try searching...\")\n",
    "            time.sleep(3)\n",
    "            clear()\n",
    "            logo()\n",
    "\n",
    "        a = radio(\"Do you want to search again?\",\n",
    "                  options=['Yes', 'No'], required=True)\n",
    "        if a == 'Yes':\n",
    "            continue\n",
    "        else:\n",
    "            toast(\"Thanks a lot!\")\n",
    "            exit()\n"
   ]
  },
  {
   "cell_type": "markdown",
   "id": "07b8afbf",
   "metadata": {},
   "source": [
    "## Happy coding!\n",
    "\n",
    "____________________________\n",
    "<p><b>&copy;</b> 2021 Satyam Tripathi</p>"
   ]
  }
 ],
 "metadata": {
  "kernelspec": {
   "display_name": "Python 3",
   "language": "python",
   "name": "python3"
  },
  "language_info": {
   "codemirror_mode": {
    "name": "ipython",
    "version": 3
   },
   "file_extension": ".py",
   "mimetype": "text/x-python",
   "name": "python",
   "nbconvert_exporter": "python",
   "pygments_lexer": "ipython3",
   "version": "3.8.3"
  }
 },
 "nbformat": 4,
 "nbformat_minor": 5
}
